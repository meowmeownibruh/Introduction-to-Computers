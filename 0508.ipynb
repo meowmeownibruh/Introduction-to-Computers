{
  "nbformat": 4,
  "nbformat_minor": 0,
  "metadata": {
    "colab": {
      "provenance": [],
      "authorship_tag": "ABX9TyMJ4MSAmDmfN7rD4KFFYmqS",
      "include_colab_link": true
    },
    "kernelspec": {
      "name": "python3",
      "display_name": "Python 3"
    },
    "language_info": {
      "name": "python"
    }
  },
  "cells": [
    {
      "cell_type": "markdown",
      "metadata": {
        "id": "view-in-github",
        "colab_type": "text"
      },
      "source": [
        "<a href=\"https://colab.research.google.com/github/meowmeownibruh/Introduction-to-Computers/blob/main/0508.ipynb\" target=\"_parent\"><img src=\"https://colab.research.google.com/assets/colab-badge.svg\" alt=\"Open In Colab\"/></a>"
      ]
    },
    {
      "cell_type": "code",
      "source": [
        "a = int(input())\n",
        "if a >= 37.5:\n",
        "  print('體溫過高!')\n",
        "elif 37.4 >= a >= 37:\n",
        "  print('體溫略高!')\n",
        "elif 36.9 >= a >= 34:\n",
        "  print('體溫正常!')\n",
        "else:\n",
        "    print('體溫異常，請重新量測!')"
      ],
      "metadata": {
        "colab": {
          "base_uri": "https://localhost:8080/"
        },
        "id": "G8MXv181L7_F",
        "outputId": "98431777-25f5-4255-d737-6bbbc5d84b74"
      },
      "execution_count": 9,
      "outputs": [
        {
          "output_type": "stream",
          "name": "stdout",
          "text": [
            "30\n",
            "體溫異常，請重新量測!\n"
          ]
        }
      ]
    },
    {
      "cell_type": "code",
      "source": [
        "a = int(input('請輸入成績'))\n",
        "if a >= 0 and a <= 100:\n",
        "  if a >= 90:\n",
        "    print('A')\n",
        "  elif 89 >= a >= 80:\n",
        "    print('B')\n",
        "  elif 79 >= a >= 70:\n",
        "    print('C')\n",
        "  elif 69 >= a >= 60:\n",
        "    print('D')\n",
        "  else:\n",
        "    print('E')"
      ],
      "metadata": {
        "colab": {
          "base_uri": "https://localhost:8080/"
        },
        "id": "-0NYV90SVDfI",
        "outputId": "7a9600c7-054f-40f3-b862-5c2d8b766425"
      },
      "execution_count": 21,
      "outputs": [
        {
          "output_type": "stream",
          "name": "stdout",
          "text": [
            "請輸入成績50\n",
            "E\n"
          ]
        }
      ]
    },
    {
      "cell_type": "code",
      "source": [
        "month = int(input())\n",
        "if month >= 1 and month <= 12:\n",
        "  if month == 3 or month == 4 or month == 5:\n",
        "    print('{}月是春天!'.format(month))\n",
        "  elif month == 6 or month == 7 or month == 8:\n",
        "    print('{}月是夏天!'.format(month))\n",
        "  elif month == 9 or month == 10 or month == 11:\n",
        "    print('{}月是秋天!'.format(month))\n",
        "  else:\n",
        "    print('{}月是冬天!'.format(month))\n",
        "else:\n",
        "  print('月份不再範圍內!')"
      ],
      "metadata": {
        "colab": {
          "base_uri": "https://localhost:8080/"
        },
        "id": "UZXN_-QCXdKv",
        "outputId": "918c5092-59c8-41cd-b98b-05dc56bc221f"
      },
      "execution_count": 28,
      "outputs": [
        {
          "output_type": "stream",
          "name": "stdout",
          "text": [
            "1\n",
            "1月是冬天!\n"
          ]
        }
      ]
    }
  ]
}